{
 "cells": [
  {
   "cell_type": "code",
   "execution_count": 5,
   "id": "395e74db-8a7c-4db5-a6c7-da343203ccaf",
   "metadata": {},
   "outputs": [
    {
     "name": "stdout",
     "output_type": "stream",
     "text": [
      "Iteration 0, Reward: 68.86063385009766, T1: 1.314, T2:0.504\n",
      "Iteration 1, Reward: 71.12151336669922, T1: 1.119, T2:0.087\n",
      "Iteration 2, Reward: 69.0545654296875, T1: 1.085, T2:0.06\n",
      "Iteration 3, Reward: 67.47737121582031, T1: 1.014, T2:0.113\n",
      "Iteration 4, Reward: 66.93287658691406, T1: 2.124, T2:0.12\n",
      "Iteration 5, Reward: 69.09410858154297, T1: 2.054, T2:0.092\n",
      "Iteration 6, Reward: 69.54064178466797, T1: 2.43, T2:0.139\n",
      "Iteration 7, Reward: 69.71412658691406, T1: 2.508, T2:0.134\n",
      "Iteration 8, Reward: 72.52001953125, T1: 2.331, T2:0.126\n",
      "Iteration 9, Reward: 71.76045989990234, T1: 2.848, T2:0.155\n",
      "Iteration 0, Reward: 68.86063385009766, T1: 1.3, T2:0.49\n",
      "Iteration 1, Reward: 71.12151336669922, T1: 1.154, T2:0.059\n",
      "Iteration 2, Reward: 69.0545654296875, T1: 1.145, T2:0.071\n",
      "Iteration 3, Reward: 67.47737121582031, T1: 1.254, T2:0.107\n",
      "Iteration 4, Reward: 66.93287658691406, T1: 2.075, T2:0.12\n",
      "Iteration 5, Reward: 69.09410858154297, T1: 2.3, T2:0.125\n",
      "Iteration 6, Reward: 69.54064178466797, T1: 2.47, T2:0.132\n",
      "Iteration 7, Reward: 69.71412658691406, T1: 2.394, T2:0.143\n",
      "Iteration 8, Reward: 72.52001953125, T1: 2.356, T2:0.13\n",
      "Iteration 9, Reward: 71.76045989990234, T1: 2.944, T2:0.16\n",
      "Iteration 0, Reward: 68.86063385009766, T1: 1.298, T2:0.478\n",
      "Iteration 1, Reward: 71.12151336669922, T1: 1.11, T2:0.061\n",
      "Iteration 2, Reward: 69.0545654296875, T1: 1.071, T2:0.062\n",
      "Iteration 3, Reward: 67.47737121582031, T1: 0.915, T2:0.048\n",
      "Iteration 4, Reward: 66.93287658691406, T1: 2.002, T2:0.118\n",
      "Iteration 5, Reward: 69.09410858154297, T1: 2.21, T2:0.128\n",
      "Iteration 6, Reward: 69.54064178466797, T1: 2.49, T2:0.136\n",
      "Iteration 7, Reward: 69.71412658691406, T1: 2.519, T2:0.129\n",
      "Iteration 8, Reward: 72.52001953125, T1: 2.298, T2:0.127\n",
      "Iteration 9, Reward: 71.76045989990234, T1: 2.891, T2:0.125\n"
     ]
    }
   ],
   "source": [
    "NUM_SIMULATIONS = 3\n",
    "for s in range(NUM_SIMULATIONS):\n",
    "    print(f\"SIMULATION NO : {s}\", end=\"\\r\")\n",
    "    # !python sgd.py --exp-name sgd{alp}_{s+1} --env-seed -1 --save True --track False --capture-video False --lr {lr}\n",
    "    !python mujoco_experiments/sgd.py --exp-name SGD{s+1} --env-seed 1 --save True --track False --alpha 1_000_000 --normalize-returns True --num-updates 10\n"
   ]
  },
  {
   "cell_type": "code",
   "execution_count": 5,
   "id": "604087df-3554-4183-b456-5c16c77a6bf0",
   "metadata": {},
   "outputs": [],
   "source": [
    "import torch\n",
    "\n",
    "m, n = 2, 3\n",
    "\n",
    "a = torch.randn(m, requires_grad=True)\n",
    "b = torch.randn(n, requires_grad=True)\n",
    "\n",
    "H = torch.randn(m, n, requires_grad=True)"
   ]
  },
  {
   "cell_type": "code",
   "execution_count": 6,
   "id": "2b725715-f283-4b05-8185-726b972c4a1a",
   "metadata": {},
   "outputs": [
    {
     "data": {
      "text/plain": [
       "tensor([0.2132, 1.2988], requires_grad=True)"
      ]
     },
     "execution_count": 6,
     "metadata": {},
     "output_type": "execute_result"
    }
   ],
   "source": [
    "a"
   ]
  },
  {
   "cell_type": "code",
   "execution_count": 7,
   "id": "95ef9ef6-604d-4d0c-bd73-dfa0e7ee6fb8",
   "metadata": {},
   "outputs": [
    {
     "data": {
      "text/plain": [
       "tensor([-0.7994, -0.8992, -2.1464], requires_grad=True)"
      ]
     },
     "execution_count": 7,
     "metadata": {},
     "output_type": "execute_result"
    }
   ],
   "source": [
    "b"
   ]
  },
  {
   "cell_type": "code",
   "execution_count": 8,
   "id": "8169f4ae-8d1e-4c05-9353-897736cfd924",
   "metadata": {},
   "outputs": [
    {
     "data": {
      "text/plain": [
       "tensor([[ 0.5193,  0.3547,  0.7153],\n",
       "        [ 0.1617, -1.0061,  1.1733]], requires_grad=True)"
      ]
     },
     "execution_count": 8,
     "metadata": {},
     "output_type": "execute_result"
    }
   ],
   "source": [
    "H"
   ]
  },
  {
   "cell_type": "code",
   "execution_count": 13,
   "id": "6040082d-9bff-4703-b326-a39fa0343ebf",
   "metadata": {},
   "outputs": [
    {
     "data": {
      "text/plain": [
       "tensor(-2.7477, grad_fn=<DotBackward0>)"
      ]
     },
     "execution_count": 13,
     "metadata": {},
     "output_type": "execute_result"
    }
   ],
   "source": [
    "l2 = a @ H @ b\n",
    "l2"
   ]
  },
  {
   "cell_type": "code",
   "execution_count": 91,
   "id": "257fc1a3-5db7-465e-bc15-feac9760d21a",
   "metadata": {},
   "outputs": [],
   "source": [
    "# %%timeit\n",
    "# grad1 = [torch.autograd.grad(l_, [a, b, c], retain_graph=True) for l_ in l2]"
   ]
  },
  {
   "cell_type": "code",
   "execution_count": 20,
   "id": "7e1987e1-6390-4ea0-94df-c654bcf6319b",
   "metadata": {},
   "outputs": [],
   "source": [
    "# %%timeit\n",
    "grad2 = torch.autograd.grad(l2, [a], retain_graph=True)"
   ]
  },
  {
   "cell_type": "code",
   "execution_count": 21,
   "id": "6d9d0a6c-6fe7-47b3-aaae-2f1a82e21bb2",
   "metadata": {},
   "outputs": [],
   "source": [
    "# grad3 = torch.autograd.grad(l2.sum(), [a, b, c], retain_graph=True)"
   ]
  },
  {
   "cell_type": "code",
   "execution_count": 22,
   "id": "832d0929-26e5-4441-abb0-e804185334a6",
   "metadata": {},
   "outputs": [
    {
     "data": {
      "text/plain": [
       "(tensor([-2.2693, -1.7430]),)"
      ]
     },
     "execution_count": 22,
     "metadata": {},
     "output_type": "execute_result"
    }
   ],
   "source": [
    "grad2"
   ]
  },
  {
   "cell_type": "code",
   "execution_count": 28,
   "id": "3ae5526c-27e9-4561-8140-e69664d39793",
   "metadata": {},
   "outputs": [
    {
     "data": {
      "text/plain": [
       "(tensor([-2.2693, -1.7430], grad_fn=<MvBackward0>),\n",
       " tensor([ 0.3208, -1.2311,  1.6764], grad_fn=<SqueezeBackward4>))"
      ]
     },
     "execution_count": 28,
     "metadata": {},
     "output_type": "execute_result"
    }
   ],
   "source": [
    "H @ b , a @ H"
   ]
  },
  {
   "cell_type": "code",
   "execution_count": 24,
   "id": "98e69fd4-ba3a-42fa-96fa-97a8ffb4bd12",
   "metadata": {},
   "outputs": [],
   "source": [
    "l1 = H @ b"
   ]
  },
  {
   "cell_type": "code",
   "execution_count": 31,
   "id": "2d948e32-b60a-4a5b-9d47-932321b9c527",
   "metadata": {},
   "outputs": [
    {
     "ename": "RuntimeError",
     "evalue": "Mismatch in shape: grad_output[0] has a shape of torch.Size([3]) and output[0] has a shape of torch.Size([2]).",
     "output_type": "error",
     "traceback": [
      "\u001b[1;31m---------------------------------------------------------------------------\u001b[0m",
      "\u001b[1;31mRuntimeError\u001b[0m                              Traceback (most recent call last)",
      "Cell \u001b[1;32mIn[31], line 1\u001b[0m\n\u001b[1;32m----> 1\u001b[0m grad1 \u001b[38;5;241m=\u001b[39m torch\u001b[38;5;241m.\u001b[39mautograd\u001b[38;5;241m.\u001b[39mgrad(l1, [b], grad_outputs\u001b[38;5;241m=\u001b[39mb, retain_graph\u001b[38;5;241m=\u001b[39m\u001b[38;5;28;01mTrue\u001b[39;00m)\n",
      "File \u001b[1;32m~\\anaconda3\\envs\\rl-research-env\\Lib\\site-packages\\torch\\autograd\\__init__.py:367\u001b[0m, in \u001b[0;36mgrad\u001b[1;34m(outputs, inputs, grad_outputs, retain_graph, create_graph, only_inputs, allow_unused, is_grads_batched, materialize_grads)\u001b[0m\n\u001b[0;32m    360\u001b[0m     warnings\u001b[38;5;241m.\u001b[39mwarn(\n\u001b[0;32m    361\u001b[0m         \u001b[38;5;124m\"\u001b[39m\u001b[38;5;124monly_inputs argument is deprecated and is ignored now \u001b[39m\u001b[38;5;124m\"\u001b[39m\n\u001b[0;32m    362\u001b[0m         \u001b[38;5;124m\"\u001b[39m\u001b[38;5;124m(defaults to True). To accumulate gradient for other \u001b[39m\u001b[38;5;124m\"\u001b[39m\n\u001b[0;32m    363\u001b[0m         \u001b[38;5;124m\"\u001b[39m\u001b[38;5;124mparts of the graph, please use torch.autograd.backward.\u001b[39m\u001b[38;5;124m\"\u001b[39m\n\u001b[0;32m    364\u001b[0m     )\n\u001b[0;32m    366\u001b[0m grad_outputs_ \u001b[38;5;241m=\u001b[39m _tensor_or_tensors_to_tuple(grad_outputs, \u001b[38;5;28mlen\u001b[39m(t_outputs))\n\u001b[1;32m--> 367\u001b[0m grad_outputs_ \u001b[38;5;241m=\u001b[39m _make_grads(\n\u001b[0;32m    368\u001b[0m     t_outputs, grad_outputs_, is_grads_batched\u001b[38;5;241m=\u001b[39mis_grads_batched\n\u001b[0;32m    369\u001b[0m )\n\u001b[0;32m    371\u001b[0m \u001b[38;5;28;01mif\u001b[39;00m retain_graph \u001b[38;5;129;01mis\u001b[39;00m \u001b[38;5;28;01mNone\u001b[39;00m:\n\u001b[0;32m    372\u001b[0m     retain_graph \u001b[38;5;241m=\u001b[39m create_graph\n",
      "File \u001b[1;32m~\\anaconda3\\envs\\rl-research-env\\Lib\\site-packages\\torch\\autograd\\__init__.py:88\u001b[0m, in \u001b[0;36m_make_grads\u001b[1;34m(outputs, grads, is_grads_batched)\u001b[0m\n\u001b[0;32m     70\u001b[0m         \u001b[38;5;28;01mraise\u001b[39;00m \u001b[38;5;167;01mRuntimeError\u001b[39;00m(\n\u001b[0;32m     71\u001b[0m             \u001b[38;5;124m\"\u001b[39m\u001b[38;5;124mIf `is_grads_batched=True`, we interpret the first \u001b[39m\u001b[38;5;124m\"\u001b[39m\n\u001b[0;32m     72\u001b[0m             \u001b[38;5;124m\"\u001b[39m\u001b[38;5;124mdimension of each grad_output as the batch dimension. \u001b[39m\u001b[38;5;124m\"\u001b[39m\n\u001b[1;32m   (...)\u001b[0m\n\u001b[0;32m     85\u001b[0m             \u001b[38;5;124m\"\u001b[39m\u001b[38;5;124mbatched, consider using vmap.\u001b[39m\u001b[38;5;124m\"\u001b[39m\n\u001b[0;32m     86\u001b[0m         )\n\u001b[0;32m     87\u001b[0m     \u001b[38;5;28;01melse\u001b[39;00m:\n\u001b[1;32m---> 88\u001b[0m         \u001b[38;5;28;01mraise\u001b[39;00m \u001b[38;5;167;01mRuntimeError\u001b[39;00m(\n\u001b[0;32m     89\u001b[0m             \u001b[38;5;124m\"\u001b[39m\u001b[38;5;124mMismatch in shape: grad_output[\u001b[39m\u001b[38;5;124m\"\u001b[39m\n\u001b[0;32m     90\u001b[0m             \u001b[38;5;241m+\u001b[39m \u001b[38;5;28mstr\u001b[39m(grads\u001b[38;5;241m.\u001b[39mindex(grad))\n\u001b[0;32m     91\u001b[0m             \u001b[38;5;241m+\u001b[39m \u001b[38;5;124m\"\u001b[39m\u001b[38;5;124m] has a shape of \u001b[39m\u001b[38;5;124m\"\u001b[39m\n\u001b[0;32m     92\u001b[0m             \u001b[38;5;241m+\u001b[39m \u001b[38;5;28mstr\u001b[39m(grad_shape)\n\u001b[0;32m     93\u001b[0m             \u001b[38;5;241m+\u001b[39m \u001b[38;5;124m\"\u001b[39m\u001b[38;5;124m and output[\u001b[39m\u001b[38;5;124m\"\u001b[39m\n\u001b[0;32m     94\u001b[0m             \u001b[38;5;241m+\u001b[39m \u001b[38;5;28mstr\u001b[39m(outputs\u001b[38;5;241m.\u001b[39mindex(out))\n\u001b[0;32m     95\u001b[0m             \u001b[38;5;241m+\u001b[39m \u001b[38;5;124m\"\u001b[39m\u001b[38;5;124m] has a shape of \u001b[39m\u001b[38;5;124m\"\u001b[39m\n\u001b[0;32m     96\u001b[0m             \u001b[38;5;241m+\u001b[39m \u001b[38;5;28mstr\u001b[39m(out_shape)\n\u001b[0;32m     97\u001b[0m             \u001b[38;5;241m+\u001b[39m \u001b[38;5;124m\"\u001b[39m\u001b[38;5;124m.\u001b[39m\u001b[38;5;124m\"\u001b[39m\n\u001b[0;32m     98\u001b[0m         )\n\u001b[0;32m     99\u001b[0m \u001b[38;5;28;01mif\u001b[39;00m out\u001b[38;5;241m.\u001b[39mdtype\u001b[38;5;241m.\u001b[39mis_complex \u001b[38;5;241m!=\u001b[39m grad\u001b[38;5;241m.\u001b[39mdtype\u001b[38;5;241m.\u001b[39mis_complex:\n\u001b[0;32m    100\u001b[0m     \u001b[38;5;28;01mraise\u001b[39;00m \u001b[38;5;167;01mRuntimeError\u001b[39;00m(\n\u001b[0;32m    101\u001b[0m         \u001b[38;5;124m\"\u001b[39m\u001b[38;5;124mFor complex Tensors, both grad_output and output\u001b[39m\u001b[38;5;124m\"\u001b[39m\n\u001b[0;32m    102\u001b[0m         \u001b[38;5;124m\"\u001b[39m\u001b[38;5;124m are required to have the same dtype.\u001b[39m\u001b[38;5;124m\"\u001b[39m\n\u001b[1;32m   (...)\u001b[0m\n\u001b[0;32m    111\u001b[0m         \u001b[38;5;241m+\u001b[39m \u001b[38;5;124m\"\u001b[39m\u001b[38;5;124m.\u001b[39m\u001b[38;5;124m\"\u001b[39m\n\u001b[0;32m    112\u001b[0m     )\n",
      "\u001b[1;31mRuntimeError\u001b[0m: Mismatch in shape: grad_output[0] has a shape of torch.Size([3]) and output[0] has a shape of torch.Size([2])."
     ]
    }
   ],
   "source": [
    "grad1 = torch.autograd.grad(l1, [b], grad_outputs=b, retain_graph=True)"
   ]
  },
  {
   "cell_type": "code",
   "execution_count": 30,
   "id": "40f81171-e2a1-415d-aaba-b0da38d8b576",
   "metadata": {},
   "outputs": [
    {
     "data": {
      "text/plain": [
       "(tensor([-1.4603,  0.9487, -3.6682]),)"
      ]
     },
     "execution_count": 30,
     "metadata": {},
     "output_type": "execute_result"
    }
   ],
   "source": [
    "grad1 # == a @ H"
   ]
  },
  {
   "cell_type": "code",
   "execution_count": 1,
   "id": "f4e1747d-05c6-4e32-9e3b-777edce5e91f",
   "metadata": {},
   "outputs": [],
   "source": [
    "import os\n",
    "import joblib\n",
    "import numpy as np\n",
    "import pandas as pd\n",
    "\n",
    "def directory_to_dict(path):\n",
    "    k = os.path.basename(path)\n",
    "    if not os.path.isdir(path):\n",
    "        # if path.lower().endswith('.csv'):\n",
    "        #     return {k : pd.read_csv(path)}\n",
    "        k = k.replace('.data', '')\n",
    "        v = np.array(joblib.load(path))\n",
    "        return {k : v}\n",
    "    node_dict = {k: {}}\n",
    "    for item in os.listdir(path):\n",
    "        item_path = os.path.join(path, item)\n",
    "        node_dict[k].update(directory_to_dict(item_path))\n",
    "    return node_dict\n",
    "\n",
    "# Path to `data` folder\n",
    "DATA_PATH = './data_final'\n",
    "\n",
    "# Convert the directory tree to a dictionary\n",
    "data = directory_to_dict(DATA_PATH)\n",
    "data['data'] = data[DATA_PATH.split('/')[-1]]"
   ]
  },
  {
   "cell_type": "code",
   "execution_count": 2,
   "id": "5945f4cb-303e-42f1-80ad-f2b4856c39f1",
   "metadata": {},
   "outputs": [],
   "source": [
    "ALL_ENVS_DATA = {}\n",
    "\n",
    "for algo in data['data']:\n",
    "    all_envs_rets = {}\n",
    "    all_envs_rews = {}\n",
    "    all_envs_runs = {}\n",
    "    \n",
    "    for exp, v in data['data'][algo].items():\n",
    "        # print(exp.split('__'))\n",
    "        env_id, _, _, _ = tuple(exp.split('__'))\n",
    "        all_envs_rets[env_id] = all_envs_rets.get(env_id, []) + [v['episodic_returns']]\n",
    "        all_envs_rews[env_id] = all_envs_rews.get(env_id, []) + [v['episodic_rewards']]\n",
    "        \n",
    "    for env_id in all_envs_rets:\n",
    "        all_envs_runs[env_id] = {'returns' : all_envs_rets[env_id]}\n",
    "    \n",
    "    for env_id in all_envs_rews:\n",
    "        all_envs_runs[env_id].update({'rewards' : all_envs_rews[env_id]})\n",
    "\n",
    "    ALL_ENVS_DATA[algo] = all_envs_runs"
   ]
  },
  {
   "cell_type": "code",
   "execution_count": 3,
   "id": "72b76cf2-a157-4d3d-820f-cc4e25c92f98",
   "metadata": {},
   "outputs": [],
   "source": [
    "def calculate_moving_average_and_variance(time_series, window_size):\n",
    "    \"\"\"\n",
    "    Calculate the moving average and moving variance of a time series.\n",
    "    \n",
    "    Parameters:\n",
    "        time_series (numpy.ndarray): The input time series.\n",
    "        window_size (int): The size of the moving window.\n",
    "        \n",
    "    Returns:\n",
    "        pandas.DataFrame: A DataFrame containing the time series, moving average, and moving variance.\n",
    "    \"\"\"\n",
    "    moving_average = pd.Series(time_series).rolling(window=window_size).mean()\n",
    "    moving_std = pd.Series(time_series).rolling(window=window_size).std()\n",
    "    \n",
    "    df = pd.DataFrame({\n",
    "        'time_series': time_series,\n",
    "        'moving_average': moving_average,\n",
    "        'moving_std': moving_std\n",
    "    })\n",
    "    \n",
    "    return df.time_series.to_numpy(), df.moving_average.to_numpy(), df.moving_std.to_numpy()"
   ]
  },
  {
   "cell_type": "code",
   "execution_count": 4,
   "id": "f19c73a7-bd7d-48b9-8241-c3cb3d3d6957",
   "metadata": {},
   "outputs": [],
   "source": [
    "import numpy as np\n",
    "import matplotlib.pyplot as plt\n",
    "\n",
    "GAP = 0.5\n",
    "window_size = 100000 // 100\n",
    "\n",
    "plotting_data = {}\n",
    "\n",
    "for algo, dir_ in ALL_ENVS_DATA.items():\n",
    "    for env_id, data in dir_.items():\n",
    "        df_returns = pd.DataFrame(data['returns']).T\n",
    "        df_rewards = pd.DataFrame(data['rewards']).T\n",
    "\n",
    "        mean_returns = pd.Series(df_returns.mean(axis=1)).rolling(window=window_size).mean()\n",
    "        std_returns = pd.Series(df_returns.std(axis=1)).rolling(window=window_size).mean()\n",
    "\n",
    "        mean_rewards = pd.Series(df_rewards.mean(axis=1)).rolling(window=window_size).mean()\n",
    "        std_rewards = pd.Series(df_rewards.std(axis=1)).rolling(window=window_size).mean()\n",
    "\n",
    "        if env_id not in plotting_data:\n",
    "            plotting_data[env_id] = {}\n",
    "\n",
    "        plotting_data[env_id].update({algo : {\n",
    "            'mean_rewards': mean_rewards,\n",
    "            'mean_returns': mean_returns,\n",
    "            'std_rewards': std_rewards,\n",
    "            'std_returns': std_returns,\n",
    "        }})"
   ]
  },
  {
   "cell_type": "code",
   "execution_count": 5,
   "id": "e66265fb-3789-4d02-8d86-524c70c9ab36",
   "metadata": {},
   "outputs": [
    {
     "data": {
      "image/png": "[encoded data removed]",
      "text/plain": [
       "<Figure size 1000x600 with 1 Axes>"
      ]
     },
     "metadata": {},
     "output_type": "display_data"
    }
   ],
   "source": [
    "# plotting_data\n",
    "\n",
    "color_map = {\n",
    "    'sgd': 'green',\n",
    "    'acrpn': 'blue',\n",
    "    'sgd2': 'red',\n",
    "}\n",
    "\n",
    "for env_id, algo_data in plotting_data.items():\n",
    "\n",
    "    # Create the plot\n",
    "    plt.figure(figsize=(10, 6))\n",
    "    \n",
    "    for algo, data in algo_data.items():\n",
    "        \n",
    "#         if algo == 'acrpn':\n",
    "#             continue\n",
    "        \n",
    "        mean_rewards = data['mean_rewards']\n",
    "        std_rewards = data['std_rewards']\n",
    "        \n",
    "        # Plot the first time series\n",
    "        plt.plot(np.arange(len(mean_rewards)), mean_rewards, label=algo.upper(), color=color_map[algo])\n",
    "        \n",
    "        # Fill between the two time series\n",
    "        plt.fill_between(np.arange(len(mean_rewards)), mean_rewards+GAP*std_rewards, mean_rewards-GAP*std_rewards, alpha=0.1, color=color_map[algo])\n",
    "\n",
    "    # Set labels and title\n",
    "    plt.xlabel('No. of iterations')\n",
    "    plt.ylabel('Average episode rewards')\n",
    "    plt.title(env_id)\n",
    "    plt.legend()\n",
    "        "
   ]
  },
  {
   "cell_type": "code",
   "execution_count": 4,
   "id": "9e22bc79-acae-4c8e-ab21-c8328f0930b5",
   "metadata": {},
   "outputs": [],
   "source": [
    "import torch\n",
    "from torch import Tensor\n",
    "from typing import List\n",
    "\n",
    "@torch.jit.script\n",
    "def qhm_update(params: List[Tensor],\n",
    "            dp_list: List[Tensor],\n",
    "            momentum_buffer_list: List[Tensor],\n",
    "            lr: float,\n",
    "            nu: float,\n",
    "            weight_decay: float,\n",
    "            weight_decay_type: str,\n",
    "            momentum: float):\n",
    "\n",
    "    for p, d_p, momentum_buffer in zip(params, dp_list, momentum_buffer_list):\n",
    "        if weight_decay != 0:\n",
    "            if weight_decay_type == \"grad\":\n",
    "                d_p.add_(weight_decay, p)\n",
    "            elif weight_decay_type == \"direct\":\n",
    "                p.mul_(1.0 - lr * weight_decay)\n",
    "            else:\n",
    "                raise ValueError(\"Invalid weight decay type provided\")\n",
    "\n",
    "        momentum_buffer.mul_(momentum).add_(1.0 - momentum, d_p)\n",
    "\n",
    "        p.data.add_(-lr * nu, momentum_buffer)\n",
    "        p.data.add_(-lr * (1.0 - nu), d_p)"
   ]
  },
  {
   "cell_type": "code",
   "execution_count": null,
   "id": "aee35e49",
   "metadata": {},
   "outputs": [],
   "source": []
  }
 ],
 "metadata": {
  "kernelspec": {
   "display_name": "Python 3 (ipykernel)",
   "language": "python",
   "name": "python3"
  },
  "language_info": {
   "codemirror_mode": {
    "name": "ipython",
    "version": 3
   },
   "file_extension": ".py",
   "mimetype": "text/x-python",
   "name": "python",
   "nbconvert_exporter": "python",
   "pygments_lexer": "ipython3",
   "version": "3.11.7"
  }
 },
 "nbformat": 4,
 "nbformat_minor": 5
}
